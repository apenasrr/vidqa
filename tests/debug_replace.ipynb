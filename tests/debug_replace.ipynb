{
 "cells": [
  {
   "cell_type": "code",
   "execution_count": 2,
   "metadata": {},
   "outputs": [],
   "source": [
    "import pandas as pd\n",
    "import os"
   ]
  },
  {
   "cell_type": "code",
   "execution_count": 3,
   "metadata": {},
   "outputs": [],
   "source": [
    "path_converted = r'D:\\git\\vidqa\\vidqa\\vidqa\\temp\\mpeg4-mp3-854x480-5min_2b4a2.mp4'\n",
    "path_origin = r'D:\\ztest_reencode\\1\\1\\m1\\mpeg4-mp3-854x480-5min.mpg'"
   ]
  },
  {
   "cell_type": "code",
   "execution_count": 5,
   "metadata": {},
   "outputs": [],
   "source": [
    "name_origin = os.path.basename(path_origin)"
   ]
  },
  {
   "cell_type": "code",
   "execution_count": 7,
   "metadata": {},
   "outputs": [],
   "source": [
    "folder_origin = os.path.dirname(path_origin)"
   ]
  },
  {
   "cell_type": "code",
   "execution_count": 10,
   "metadata": {},
   "outputs": [
    {
     "data": {
      "text/plain": [
       "'mpeg4-mp3-854x480-5min.mp4'"
      ]
     },
     "execution_count": 10,
     "metadata": {},
     "output_type": "execute_result"
    }
   ],
   "source": [
    "name_wo_ext = os.path.splitext(name_origin)[0]\n",
    "name_converted = name_wo_ext + '.mp4'\n",
    "name_converted"
   ]
  },
  {
   "cell_type": "code",
   "execution_count": 12,
   "metadata": {},
   "outputs": [
    {
     "data": {
      "text/plain": [
       "'D:\\\\ztest_reencode\\\\1\\\\1\\\\m1\\\\mpeg4-mp3-854x480-5min.mp4'"
      ]
     },
     "execution_count": 12,
     "metadata": {},
     "output_type": "execute_result"
    }
   ],
   "source": [
    "file_path_converted = os.path.join(folder_origin, name_converted)\n",
    "file_path_converted"
   ]
  },
  {
   "cell_type": "code",
   "execution_count": 14,
   "metadata": {},
   "outputs": [],
   "source": [
    "df_path = r\"D:\\git\\vidqa\\vidqa\\vidqa\\df_video_metadata.csv\"\n",
    "df = pd.read_csv(df_path)"
   ]
  },
  {
   "cell_type": "code",
   "execution_count": 17,
   "metadata": {},
   "outputs": [
    {
     "data": {
      "text/plain": [
       "Index(['duration', 'duration_seconds', 'file_size', 'format_name',\n",
       "       'total_bitrate', 'video_bitrate', 'video_codec', 'audio_codec',\n",
       "       'is_avc', 'video_profile', 'video_resolution_height',\n",
       "       'video_resolution_width', 'path_file', 'file_path_folder', 'file_name',\n",
       "       'to_convert', 'conversion_done', 'path_file_converted'],\n",
       "      dtype='object')"
      ]
     },
     "execution_count": 17,
     "metadata": {},
     "output_type": "execute_result"
    }
   ],
   "source": [
    "df.columns"
   ]
  },
  {
   "cell_type": "code",
   "execution_count": 20,
   "metadata": {},
   "outputs": [
    {
     "data": {
      "text/html": [
       "<div>\n",
       "<style scoped>\n",
       "    .dataframe tbody tr th:only-of-type {\n",
       "        vertical-align: middle;\n",
       "    }\n",
       "\n",
       "    .dataframe tbody tr th {\n",
       "        vertical-align: top;\n",
       "    }\n",
       "\n",
       "    .dataframe thead th {\n",
       "        text-align: right;\n",
       "    }\n",
       "</style>\n",
       "<table border=\"1\" class=\"dataframe\">\n",
       "  <thead>\n",
       "    <tr style=\"text-align: right;\">\n",
       "      <th></th>\n",
       "      <th>path_file</th>\n",
       "      <th>path_file_converted</th>\n",
       "    </tr>\n",
       "  </thead>\n",
       "  <tbody>\n",
       "    <tr>\n",
       "      <th>0</th>\n",
       "      <td>D:\\ztest_reencode\\1\\1\\m1\\mpeg4-mp3-854x480-5mi...</td>\n",
       "      <td>D:\\git\\vidqa\\vidqa\\vidqa\\temp\\mpeg4-mp3-854x48...</td>\n",
       "    </tr>\n",
       "  </tbody>\n",
       "</table>\n",
       "</div>"
      ],
      "text/plain": [
       "                                           path_file  \\\n",
       "0  D:\\ztest_reencode\\1\\1\\m1\\mpeg4-mp3-854x480-5mi...   \n",
       "\n",
       "                                 path_file_converted  \n",
       "0  D:\\git\\vidqa\\vidqa\\vidqa\\temp\\mpeg4-mp3-854x48...  "
      ]
     },
     "execution_count": 20,
     "metadata": {},
     "output_type": "execute_result"
    }
   ],
   "source": [
    "mask_to_move = ~df['path_file_converted'].isna()\n",
    "df_to_move = df.loc[mask_to_move, ['path_file', 'path_file_converted']].reset_index(drop=True)\n",
    "df_to_move"
   ]
  },
  {
   "cell_type": "code",
   "execution_count": 21,
   "metadata": {},
   "outputs": [
    {
     "data": {
      "text/plain": [
       "(1, 2)"
      ]
     },
     "execution_count": 21,
     "metadata": {},
     "output_type": "execute_result"
    }
   ],
   "source": [
    "if df_to_move.shape[0]==0:\n",
    "    print('Sem reencode')"
   ]
  },
  {
   "cell_type": "code",
   "execution_count": 36,
   "metadata": {},
   "outputs": [],
   "source": [
    "def get_file_path_converted(path_origin):\n",
    "    \n",
    "    name_origin = os.path.basename(path_origin)\n",
    "    folder_origin = os.path.dirname(path_origin)\n",
    "    name_wo_ext = os.path.splitext(name_origin)[0]\n",
    "    name_converted = name_wo_ext + '.mp4'\n",
    "    file_path_converted = os.path.join(folder_origin, name_converted)\n",
    "    return file_path_converted"
   ]
  },
  {
   "cell_type": "code",
   "execution_count": 38,
   "metadata": {},
   "outputs": [
    {
     "name": "stdout",
     "output_type": "stream",
     "text": [
      "apagar: D:\\ztest_reencode\\1\\1\\m1\\mpeg4-mp3-854x480-5min.mpg\n",
      "de: D:\\git\\vidqa\\vidqa\\vidqa\\temp\\mpeg4-mp3-854x480-5min_2b4a2.mp4\n",
      "para: D:\\ztest_reencode\\1\\1\\m1\\mpeg4-mp3-854x480-5min.mp4\n"
     ]
    }
   ],
   "source": [
    "for index, row in df_to_move.iterrows():\n",
    "    path_origin = row['path_file']\n",
    "    path_converted = row['path_file_converted']\n",
    "    file_path_converted = get_file_path_converted(path_origin)\n",
    "    \n",
    "    # conferir existencia de path_converted\n",
    "    if not os.path.exists(path_converted):\n",
    "        raise ValueError('path_converted not found: %s', path_converted)\n",
    "    \n",
    "    print('apagar:', path_origin)\n",
    "    print('de:', path_converted)\n",
    "    print('para:', file_path_converted)\n",
    "    # apagar path_origin\n",
    "    # mover path_converted para file_path_converted\n"
   ]
  }
 ],
 "metadata": {
  "kernelspec": {
   "display_name": "Python 3.10.5 64-bit (system)",
   "language": "python",
   "name": "python3"
  },
  "language_info": {
   "codemirror_mode": {
    "name": "ipython",
    "version": 3
   },
   "file_extension": ".py",
   "mimetype": "text/x-python",
   "name": "python",
   "nbconvert_exporter": "python",
   "pygments_lexer": "ipython3",
   "version": "3.10.5"
  },
  "orig_nbformat": 4,
  "vscode": {
   "interpreter": {
    "hash": "8f0aae869aef2f98a2a5cd66aa55e16e4d4cb7fd9e3b09142a42429becd7e0ef"
   }
  }
 },
 "nbformat": 4,
 "nbformat_minor": 2
}
